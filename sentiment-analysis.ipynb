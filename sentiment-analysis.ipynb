{
 "cells": [
  {
   "cell_type": "code",
   "execution_count": 1,
   "metadata": {},
   "outputs": [],
   "source": [
    "import pandas as pd\n",
    "import numpy as np\n",
    "import matplotlib.pyplot as plt\n",
    "import seaborn as sns\n",
    "from transformers import AutoTokenizer, AutoModelForSequenceClassification\n",
    "import torch\n",
    "import requests\n",
    "import re\n",
    "from bs4 import BeautifulSoup"
   ]
  },
  {
   "cell_type": "code",
   "execution_count": 2,
   "metadata": {},
   "outputs": [
    {
     "name": "stderr",
     "output_type": "stream",
     "text": [
      "c:\\Users\\ASUS\\AppData\\Local\\Programs\\Python\\Python310\\lib\\site-packages\\transformers\\tokenization_utils_base.py:1601: FutureWarning: `clean_up_tokenization_spaces` was not set. It will be set to `True` by default. This behavior will be depracted in transformers v4.45, and will be then set to `False` by default. For more details check this issue: https://github.com/huggingface/transformers/issues/31884\n",
      "  warnings.warn(\n"
     ]
    }
   ],
   "source": [
    "tokenizer = AutoTokenizer.from_pretrained('nlptown/bert-base-multilingual-uncased-sentiment')\n",
    "model = AutoModelForSequenceClassification.from_pretrained('nlptown/bert-base-multilingual-uncased-sentiment')"
   ]
  },
  {
   "cell_type": "code",
   "execution_count": 13,
   "metadata": {},
   "outputs": [
    {
     "name": "stdout",
     "output_type": "stream",
     "text": [
      "Sentiment score for sample text: 5\n"
     ]
    }
   ],
   "source": [
    "sample_text = 'Fantastic, I have no words to describe my feelings'\n",
    "tokens = tokenizer.encode(sample_text, return_tensors='pt')\n",
    "result = model(tokens)\n",
    "sentiment = int(torch.argmax(result.logits)) + 1\n",
    "print(f\"Sentiment score for sample text: {sentiment}\")"
   ]
  },
  {
   "cell_type": "code",
   "execution_count": 14,
   "metadata": {},
   "outputs": [],
   "source": [
    "def scrape_reviews(url):\n",
    "    reviews = []\n",
    "    \n",
    "    response = requests.get(url)\n",
    "    soup = BeautifulSoup(response.text, 'html.parser')\n",
    "    \n",
    "    regex = re.compile('.*comment.*')\n",
    "    results = soup.find_all('p', {'class': regex})\n",
    "    \n",
    "    reviews.extend([result.text for result in results])\n",
    "    return reviews"
   ]
  },
  {
   "cell_type": "code",
   "execution_count": 15,
   "metadata": {},
   "outputs": [],
   "source": [
    "base_url = 'https://www.yelp.com/biz/patxis-pizza-san-francisco-2?start='\n",
    "\n",
    "all_reviews = []\n",
    "for page in range(0, 100, 20): \n",
    "    url = base_url + str(page)\n",
    "    reviews = scrape_reviews(url)\n",
    "    all_reviews.extend(reviews)"
   ]
  },
  {
   "cell_type": "code",
   "execution_count": 16,
   "metadata": {},
   "outputs": [
    {
     "data": {
      "text/plain": [
       "['We stopped in because the pizza pics on yelp looked so appetizing and there was plenty of seating. Our server was very sweet and helpful, offering us suggestions. PERK - Get a free dessert Stromboli with a pizza purchase!EVERYTHING was AMAZING!!!',\n",
       " 'Really disappointing deterioration @ Patxi\\'s They\\'ve taken that bad step of now bloating the dough quotient in their deep dish and skimping on the part of the pizza - ie the ingredients- you actually want. Had their BBQ combination yesterday and almost needed a search party to find any trace of chicken in it . Pizza was 40% dough , ie flour and water . Borderline disgusting.They\\'ve also jacked up their prices , and they now impose 5% \"SF Mandate\" , and the service has really deteriorated as well. Well, barely any service actually at all TBH.Nice memories of this place before the stupid management decisions recently to screw their loyal customers in every direction as presumably this location teeters on the verge of death spiral and closure . Would *not* recommend revisiting and also looks like foot traffic is way down there. Why do small business owners think screwing their customers is a great loyalty & revenue strategy ???',\n",
       " \"Firstly, ignore the reviews from all the childish whiners complaining about 'the time it took to cook the pizza', let them wallow in self pity because their cup of McDonalds' coffee had a stain on the 'warning contents may be hot' part, so they got surprised and burnt. If you want fresh deep dish, not reheated, it takes time, ~ imagine that !It takes time to process an order - and that's not just the oven part. Receiving, scheduling in the production process, and the server being ready to take it to your table. If you want something instant, try that vile California Pizza Kitchen or Extreme Pizza with their gouged out pricing, skimpy toppings.I'm disappointed Patxi shut their Marina location but the fairly basic Hayes Valley location itself doesn't detract from the food quality and experience I had. Yes, I had to wait to be seated, and -newsflash - they only took my order after I got seated.  The interior etc could definitely use a refresh, it's definitely not somewhere to 'impress your Date', so hopefully the owners do consider that, the only real detractor from the Patxi's experience I got the BBQ - it was surprisingly spicy, but the ingredients and presentation were fantastic. Again, Patxi's so much better than anything like CPK or Extreme Pizza serve up with their CPK/Extreme heavy flour/water [= dough] and skimpy toppings. And much better value.So, if you're craving for Chicago style pizza, I say give Patxi a try, only one SF location does limit your options, and it's proximity to the sketchy parts of Hayes Valley might mean you're better off with delivery or take out than risking having your car broken into,  or worse, on the side streets. Great experience, good value, good food quality, and just be mindful that fresh Chicago style deep dish pizza actually takes time to make. Just like it does in Chicago , imagine that.\",\n",
       " \"I got Uber eats delivery. I've had plenty of pizza delivered, so when they said it was an hour wait I figured that included cooking it - not the actual drive to get it to me.It was not warm by the time it arrived.I didn't think this would be an issue as I like my  pizza room temp and good pizza can withstand sitting out until it's room temp.But this is really bad.The crust is hard and the thick congealed layer of cheese is unappetizing.They put the prison under the cheese, which I'm cool with, but it seems they created clumps of meat rather than spacing it out over the whole pie, which I'm not cool with.At $30+ for the pie plus delivery, this experience sucks big time.Order from Marcello's instead.\",\n",
       " 'If I can give no stars I would1. It took 25 minutes to be seated 2. It took 39 minutes for our food to arrive 3. The area in which we were eating was dirty 4. My pizza came not completely cooked - I had asked the waitress to see if my pizza can be reheated and or recooked. The waitress came back to my table twice to let me know what her manager had said ... (this was just more added time to me actually eating) ... the second time she came back to the table she had said that her manager agreed to make another one however it would be an additional 30 minutes',\n",
       " \"Came here with a group of 5 where we were seated upon arrival around 10:30pm and left shortly before midnight. The reason for the mixed reviews are based on the experience though no fault to our server. She was the only one running around taking orders and serving a busy restaurant . Our food was tasty and I would recommend but the service was rough. The server got us our pitcher of sangrias but never brought our waters out until almost towards the end of the night despite asking for it multiple times. We were emphatic to an extent. I checked into yelp upon arrival to place an order for a free Stromboli dessert where i showed the check in but we never did get it. Due to the business and the fact that we are sure was an overwhelming night for our server, we didn't inquire about it. We got the following: * Famous Spicy Artichoke Dip: Blend of artichokes, roasted red peppers, jalapeños & parmesan with warm focaccia bread for $12. - received at 11:11. * Pizza for $20 - received our pizza 11:14.* never received the Stromboli: Fresh mozzarella with choice of apple, strawberry or pineapple, baked in our sweetened dough & garnished with sauceI had been here years ago and the wait time was long as well for the food and hadn't been back since today. If i were to order from here again it would be for takeout.\",\n",
       " \"OOF. First time there since the pandemic. What happened?I picked the exact same ingredients as last time: deep dish with herbed ricotta, roasted tomatoes, roasted garlic and red onions.The ricotta used to fill the surface, now it's a tiny dollop on each slice. I couldn't tell if there was more than 3 slices of tomato and they were not roasted.The roasted garlic was almost raw, only ingredient that was plentiful but not good since it was not cooked.Flimsy patches of red onions, barely tasted them in 3 bites on a 12'' pizza.Each of those ingredients cost an extra $3.50 mind you.Worst part was the pizza itself had barely any tomato sauce, instead it was 95% (not exaggerating) of that cheap plastic mozzarella with no taste. The crust was soft and under-baked (there is an option online to ask for extra baking so maybe you'll get a normal pizza this way?). It's painfully clear they are cutting down on the costs to an extreme level and that they rushed the pizza. That's real sad to come back to that after 5 years!\",\n",
       " 'My friend hosted a fun gathering and ordered nine boxes of pizza from this place. Out of the nine, I only had the stomach to try three of them. My favorite was the chicken tikka masala deep dish pizza. The curry flavor really came through, however, for a \"tikka masala\" I think the pizza could\\'ve been creamier. Maybe instead of using it only crushed tomato, the pizza might\\'ve been better if the crust tomato was mixed with some cream (even better, coconut cream). But, overall, I still really enjoyed this pizza. The second pizza that I grabbed was the all-meat deep dish pizza, which was super duper meaty and really tasty even some people found it to be a little bit on the saltier side, but it was perfect for me. The last pizza I tried was the thin-crust fungi pizza, which was deliciously cheesy and loaded with mushrooms, but I had too much cornmeal crumbs on the bottom of my pizza slice, and the crust was a bit burnt and too chewy for my taste.',\n",
       " \"The place was quiet, a few people inside dining in. The server lady greeted us and provided menu. She was friendly. Here are a couple of things that impacted my rating: Everything was ok until I checked in on Yelp and showed her the coupon to get free stromboli. She told us that she can only gave us the free stromboli if I wrote a 5-star review and was even planning to wait until I submitted it on the spot. First if all, I am not one to write a 5-star review just for a free stromboli. I am all for honesty. Second of all, the conditions in the coupon was only if I checked-in to the restaurant, NOT to submit any review. Lastly, it feels almost illegal (or violating Yelp policy) to extort their customers to write a 5-star review. Maybe it was an attempt to fix their already-bad rating in Yelp? Cooking time: Unfortunately, our server did not tell us in advance how long the order will take. it took them 1 hour to deliver the food. I almost walked away at this point. Food: other reviewers are correct. Their crust is like cardboard. Not only there's no spring on it, it was tough and very bland. The only good thing about it is just the generous cheese. We still end up getting the Stromboli mainly because we actually wanted it, so we paid for it. She still asked me at the end if we have submitted 5-star review but I'd rather keep my opportunity to provide an honest review. 10/10 would NOT recommend.\",\n",
       " \"Great pizza. We got the classic thin crust pizza. It was crispy, crunchy, flavorful with fresh basil and ricotta. A little on the pricier side for pizza, however the quality does match the higher price tag. We got seated and served relatively quickly. Next time we'll probably the deep dish, once we have 35 minutes to spare for it to cook! No photo unfortunately because we devoured it so quickly.\",\n",
       " \"The food was ready for pickup about a quarter hour  after it said it would be. The garlic bread was easily. The worst I've ever had in my entire life. It was like they fried crust and sprinkled garlic powder on it. Hardly even five pieces. They were triangular shaped no fluff to it, taste was non-existent. The only flavor was from the marinara sauce. The pizza on the other hand was thick and full of flavor and ingredients. The garlic bread just ruined the experience. Such a simple thing to create, not sure how they messed it up. If I come back here again, I will only get pizza or a salad, no garlic bread. But I doubt I will, the unusually long wait time, and the low quality of the garlic bread shows that there isn't much quality control or assurance for takeout.Maybe dining in is different.\",\n",
       " 'Went on a Saturday afternoon and around 2 PM after shopping around Hayes St. Ordered the Special deep dish pizza and Caesar salad. The server did inform us that it takes about 30 minutes for the deep dish to bake so that was much appreciated. Our expectations were set right from the get go. The salad came out pretty quickly as expected. There was quite some time that passed before the deep dish came out. Pizza was delicious. Would definitely come back again.',\n",
       " \"If i could give it zero stars i would. The service was great, but the quality of the food was horrible. We ordered the garlic bread, which was about $10 and only came with 4 little triangle sliced breads that were super doughy and had no flavor. Then the pizza took about 30 minutes to come out, we ordered the spicy bbq and it had barely any chicken on it, just a few little shredded pieces of chicken. The pizza had no flavor just like the garlic bread, then to top it off it was super overpriced. Just the 2 items alone came out to about $45. I highly recommend IL Casaro pizza, the pizza was so much better. We were able to get 2 pizzas and tiramisu for only $7 more. The service was excellent, the quality of the food was amazing and the timing was impeccable. Please dont waste your time at patxis. I'll provide a picture of the pizza below.\",\n",
       " \"I went today for a late lunch and ordered the deep dish Chicago Tribute 10 inch. Overall it was just ok.  The flavors and the cheese content just didn't hit for me. Service was good and was expecting the pizza to be better. I think Zacharys has better deep dish.\",\n",
       " \"They have pretty solid pizza here, especially if you are looking for Chicago deep dish pizza. In addition to Chicago style, they also serve regular pan style and Neapolitan style. They also have an option to build your own pizza but the regular menu itself is sufficient enough to cover most of your cravings. My main qualm is the amount of time it takes to get the pizzas after ordering. I appreciate that they are up front about the time it will take to get your pizzas out, and it's justified because the pizzas do taste really good. However, I can find comparable restaurants and pizza places where the food will be served faster. Hence, I would only go back if I was ordering through a delivery service and time wasn't a concern or I was specifically seeking out deep dish pizza. The location is a very casual, sit down style restaurant, and the service was great.\",\n",
       " \"Patxi's is known for their delicious, authentic Chicago-style deep dish pizza, and they did not disappoint in that regard. We did wait around 35-40 minutes to get sat and another 30 minutes to receive our food.In terms of the overall experience, Patxi's has a cozy and inviting atmosphere. The restaurant also offers a variety of toppings and crust options, so there is something for everyone. We ordered the chicken fajita deep dish enjoyed the chicken fajita deep dish. The combination of savory chicken, flavorful fajita seasoning, and the hearty crust of a deep dish pizza is certainly a winning one.\",\n",
       " 'Do not eat here- the pizza was sub- par and the garlic bread seemed as if it was made from old crust and smeared with some garlic.To make things worse, my girlfriend threw up after dinner because the food did not settle well. Will not be coming back.A+ to the staff though they are very kind',\n",
       " \"Came here for dinner on a Fri night, was pretty empty and it makes sense why now...Got the chicken tikka masala pizza to share and we were excited to try it deep dish style. Also got some wings to startWings were not bad but nothing special either, we were just hungry and wanted to eat something quickonto the pizza.... There was a lot of cheese like every bite had a cheese pull which sounds nice but it really just was a bit overwhelming and drowned everything else out. They added whole garlic and like 6-10 pieces per slice which was unnecessaryChicken was minced and under the cheese, would've preferred small pieces on top as a topping to get a better taste and texture Sauce fell flat, not spicy or flavorfulAnd lastly the pizza felt undercooked, the base of it wasn't crispy or hard... was good in a way to eat because it was soft and easy on my teeth since I recently got my wisdom teeth out but definitely not how it should've been. Also because it was so weak and couldn't really hold everything on top, you couldn't pick it up and had to use a fork and knife to eat it.Overall was a disappointing meal but now we know and aren't wondering next time we walk by it.\",\n",
       " \"Patxi's has a great lunch special. When I crave pizza,  I get their pepperoni slice (thin crust) with Caesar salad and anchovies. Absolute perfection. The sauce is good, the crust is thin, crispy, buttery, and y'all know I love pepperoni & cheese. Although they are known for their deep dish pizzas, I personally prefer the thin crust pizzas. Service is usually good and great location in the middle of Hayes Valley. 4.5 stars.\",\n",
       " \"Pizza was amazing, I have been to Paxti's locations in the south bay and this location is wayyyy better. We got the spicy artichoke dip and the spinach pesto pizza and both were 4.5/5.We did have to wait a bit when we got there on a Thursday night but that was mostly due to there being only one employee working all the tables and that's understandable.\",\n",
       " \"I love the deep dish pizza here! I've been coming to Patxi's pizza for years every time I need a deep dish fix. Their deep dish pizza is so flavorful and delicious! I usually get their Special pizza or favorite pizza. Highly recommend coming here if you are in the city and craving deep dish. You won't be disappointed! They also serve a variety of appetizers such as burrata bruschetta, garlic bread and mac and cheese!\",\n",
       " \"This is my favorite place to get deep dish pizza. I usually order the favorite deep dish pizza. It comes with olives, pepperoni and mushrooms. I would recommend sharing this with a few other people as each slice is pretty loaded and you'll get tired of eating it over and over. I've also tried their Matt Cain pizza, but the only downside is that it doesn't come with mushrooms.\",\n",
       " \"Food is never consistent. Come 1 day. The salad is loaded with tomatoes. The next day it's empty. The garlic Rippy cheese was horrible. The cheese wasn't even melted and it wasn't bread. It was pizza crust Time to find a new place\",\n",
       " \"I recently visited Patxis Pizza seeking a good deep dish and a relaxed evening, and it definitely delivered. The service was quick, which was a great start to the evening. The jalapeño artichoke dip was a hit--not too spicy, but flavorful enough to make an impression. The special pizza was the star of the show, perfectly cooked with well-balanced toppings. We finished with a dessert that was outstanding, rounding off a thoroughly enjoyable meal. If you're in the mood for excellent pizza and efficient service, Patxis Pizza is worth a visit.\",\n",
       " 'My friend and I were seated by the window which gave us a nice view of the street. We ordered focaccia which was steaming from the oven! The mozzarella, greens, and tomatoes also had a delicious pesto on top. The supreme pizza was also delicious and packed full of all the ingredients listed! Huge shoutout to our waiter Michael! Also check in + review on Yelp = free dessert!',\n",
       " \"Visited Patxi's pizza in search of some vegan deep dish and was pleasantly surprised! The place was a bit crowded but the wait wasn't too bad at all, and it's overall a super lively place! Definitely a great lunch spot or for a casual hangout with friends. We ordered the Vegan Deep Pizza which came with a lot of onions, basil, and a metric ton of garlic. J personally LOVE garlic so I thought it was really good! The pizza itself was cooked really well and the crust was super stable and crisp, and the sauce blended with the toppings perfectly. If you're sensitive to garlic, then I'd recommend against it as it was essentially a giant vessel for garlic, but nevertheless, it was delicious!I'd highly recommend giving the Vegan Deep Dish a try, even if you're not a vegan yourself!\",\n",
       " \"Visited today for a quick lunch and had a great experience. Was greeted quickly after entering and staff was friendly and helpful. Interior is nothing crazy but does offer a clean and cozy atmosphere.I ordered the Slice and Salad lunch combo, which was very reasonably priced. Went with a Caesar for my salad and was surprised how large the salad was. Really solid salad, fresh and good crunch - the dressing to leaf ratio was just right too - not dry but not drenched and soggy. Went with a slice of Neapolitan pepperoni pizza and it was solid but not the best pizza I've had by any means. Filling for only one slice and a healthy amount of pepperoni. Would eat again but will likely go for the deep dish pizza next time I visit.Overall, it was a pleasant and enjoyable experience. Friendly staff, quick service, tasty food, and reasonable prices - all in a fun neighborhood with lots to do and see. Would recommend.\",\n",
       " \"Pizza was awesome!! We got the Chicago Ultimate deep pizza! Sad that they don't sell the s'mores pizza anymore though. Also the place is very small. Overall food and service was great.\",\n",
       " \"The Matt Cain (called something else now) with sausage and pepperoni is delicious.The new waitress 4/10/23 working around 6pm is really attentive and friendly. Service has always been slow here but she's doing great.  Awesome new addition to team. If they hired just one more front end service member, this would elevate the whole experience even more. It's so busy with to-go orders that the wait staff has to juggle so many things, resulting in slow service.\",\n",
       " 'Staff was very helpful. Popped in for takeout. Great service!Will definitely come back!',\n",
       " 'Delicious pizza! Classic Meat is amazing! A great sit-in stop in SF for a fun pizza with friends! Service is great!',\n",
       " \"Wow, I can't believe that I didn't have a review for Paxti's pizza! Well here we go! The pizza dough is so yummy & you can taste the olive oil & sea salt in the dough! The Caesar salad is yummy but above average! I like to get the veggie thin crust but whenever I get pizza from this place! I usually do the very thin crusts because I usually have to do the Keto cauliflower pizza myself at home! Service isn't so bad but not as fast as their former Noe location! I can't say much about ambience because I got my food delivered!\",\n",
       " 'great waitressI love the deep dish, but it takes a while.',\n",
       " \"So Patxi's has lost a long-time customer. We have patronized Patxis for many years. This, in spite of dog feces much too close to the entrance, and the smelly sidewalk on which the restaurant is located, and the fact that the quality has gradually declined over the years. We had actually stopped going to Patxis a few years ago, but decided to take a chance. We received two extremely lopsided, inedible pizzas three days ago, and called to request a replacement for one of them today. Sheila, the putative manager, first asked me why I waited to call, which is pretty irrelevant and impertinent.  I had taken photos, and planned to address the issue this weekend, today. Sheila's conglomerate responses were as follows:We cannot find the sale record.Oh, I do see it; we use first names.No, we cannot refund you. (I had not asked for, or expected a refund; I wanted a replacement.)We cannot do replacements. I offered to send photos. Upon receipt thereof, her response was that it looks like the correct pizza. I explained that the issue was not the correctness of the order, but the quality of the (lopsided) pizza! Her response: that's how it's supposed to look!! She offers a 10% discount. This company has closed restaurants in Palo Alto, Lafayette and San Francisco. They cannot afford to practice such arrogant and callous disregard for the documented claims of long-time customers! There are too many options to tolerate this kind of treatment from a failing business. I will NEVER patronize Patxi's again.\",\n",
       " 'Casual pizza spot in Hayes Valley (it requires around 20-30 minutes for pizza) so be sure to plan ahead for that.This place is known for their deep dish Chicago-style pizza but it takes around 30 minutes for the pizza to be prepared. My friend and I did not have the patience for that so we ended up going with a thin crust which was projected to be 20 minutes to prepare.There\\'s outdoor seating & indoor seating, if you sit outdoor be aware of:- they\\'ll need your card first- strangers walking up to your table and talking to you- loud motorcycles- people bumping into your tables There was a fair amount of pizza types (from vegan, to full of meat, to veggies). We opted in for the margherita pizza. The pizza had a lot of marinara sauce (up to the edge of the crust), the cheese was portioned pretty evenly and I loved that they had a lot of fresh baby basil around the pizza. The 10\" was pretty small for 2 people, I would recommend ordering appetizers or dessert with it as well.Overall, I would probably order this to go next time to be able to enjoy the meal a bit more.',\n",
       " \"This deep dish gets you full for sure!!! And the endless amount of flavors you can pack into a pizza is amazing. I will say if your supper hungry I wouldn't recommend ordering just because it does take roughly 30-45 min to be ready. Otherwise order and enjoy because the cheese pull is so worth it!!!\",\n",
       " 'Ordered Chicago deep dish it was really good! Not soggy not too much or too little of anything.will eat here again',\n",
       " 'I\\'m from Chicago and let me tell you, every time I go to Chicago and have deep dish I say \" I can\\'t believe I\\'m going to say this, but Paxies in SF is better \" I\\'ve taken all of my friends and family from Chicago who come visit me in SF. They usually dont believe it\\'s Chicago style and don\\'t think it will measure up to Lou Malnatis. They all come out with their belly\\'s full and surprised at how good the pizza was.Is the wait long? Yes, they make the pizza right there fresh, so of course you will have to wait. If your looking for a quick pizza, this ain\\'t it, no re/heating or using canned vegetables going on here. And that\\'s why it takes long.Most people here complaining are too used to eating day old pizzas they get in 15min probably because they are re-heated. Lol! Is it worth it? Yes, and again, y\\'all gotta know what and how to order.',\n",
       " 'Old time favorite! Amazing pizza ))) We have been ordering this delicious pizza, for years. Dine in experience was also great, with excellent service.',\n",
       " 'Chill spot for tasty deep dish pizzas and the staff was helpful and attentive.Deep Dish PizzaBBQ Chicken Pizza',\n",
       " \"One of the best deep dish pizza places in San Francisco. This location has always been consistent and always put quality ingredients in my deep dish pizza. I enjoyed my  pizza experience with Patxi's.\",\n",
       " 'Patxi\\'s and I go back several years. When the Noe Valley restaurant was open I periodcally would Yelp a revision of my past review noting the change in the ability to get what I wanted from the website or phone system.  Stars would go up or down, depending upon the IT experience.Patxi\\'s Noe Valley has closed but the Hayes Street location continues to provide excellent deep-dish pizza with a friendly staff... IF you can get past the web or phone ordering systems.The great stuff is the food. Tasty, well prepared with excellent ingredients. We do a 1/2 and 1/2 custom pizza usually, and they do a good job at separating the goodies and making an elegant pie.However their web site (version 47, I think) still is awkward with random internal errors and limitations. Today, for example, I wanted to reorder a 12\" deep dish but make it a 14\" deep dish with the same ingredients. The first time I hit REORDER I received an internal error message. When I hit the REORDER link again everything was there, but there was no way to change the size from 12\" to 14\". Well we are having an extra person over today so I had to do the order from scratch. First World problem,... still!But, the pies are worth the website struggles. I wish they\\'d reopen closer to me, too, but the pizzas are definitely quality.']"
      ]
     },
     "execution_count": 16,
     "metadata": {},
     "output_type": "execute_result"
    }
   ],
   "source": [
    "all_reviews"
   ]
  },
  {
   "cell_type": "code",
   "execution_count": 17,
   "metadata": {},
   "outputs": [],
   "source": [
    "df = pd.DataFrame(all_reviews, columns=['review'])"
   ]
  },
  {
   "cell_type": "code",
   "execution_count": 18,
   "metadata": {},
   "outputs": [
    {
     "data": {
      "text/html": [
       "<div>\n",
       "<style scoped>\n",
       "    .dataframe tbody tr th:only-of-type {\n",
       "        vertical-align: middle;\n",
       "    }\n",
       "\n",
       "    .dataframe tbody tr th {\n",
       "        vertical-align: top;\n",
       "    }\n",
       "\n",
       "    .dataframe thead th {\n",
       "        text-align: right;\n",
       "    }\n",
       "</style>\n",
       "<table border=\"1\" class=\"dataframe\">\n",
       "  <thead>\n",
       "    <tr style=\"text-align: right;\">\n",
       "      <th></th>\n",
       "      <th>review</th>\n",
       "    </tr>\n",
       "  </thead>\n",
       "  <tbody>\n",
       "    <tr>\n",
       "      <th>0</th>\n",
       "      <td>We stopped in because the pizza pics on yelp l...</td>\n",
       "    </tr>\n",
       "    <tr>\n",
       "      <th>1</th>\n",
       "      <td>Really disappointing deterioration @ Patxi's T...</td>\n",
       "    </tr>\n",
       "    <tr>\n",
       "      <th>2</th>\n",
       "      <td>Firstly, ignore the reviews from all the child...</td>\n",
       "    </tr>\n",
       "    <tr>\n",
       "      <th>3</th>\n",
       "      <td>I got Uber eats delivery. I've had plenty of p...</td>\n",
       "    </tr>\n",
       "    <tr>\n",
       "      <th>4</th>\n",
       "      <td>If I can give no stars I would1. It took 25 mi...</td>\n",
       "    </tr>\n",
       "  </tbody>\n",
       "</table>\n",
       "</div>"
      ],
      "text/plain": [
       "                                              review\n",
       "0  We stopped in because the pizza pics on yelp l...\n",
       "1  Really disappointing deterioration @ Patxi's T...\n",
       "2  Firstly, ignore the reviews from all the child...\n",
       "3  I got Uber eats delivery. I've had plenty of p...\n",
       "4  If I can give no stars I would1. It took 25 mi..."
      ]
     },
     "execution_count": 18,
     "metadata": {},
     "output_type": "execute_result"
    }
   ],
   "source": [
    "df.head()"
   ]
  },
  {
   "cell_type": "code",
   "execution_count": 19,
   "metadata": {},
   "outputs": [],
   "source": [
    "def get_sentiment(review):\n",
    "    tokens = tokenizer.encode(review, return_tensors='pt')\n",
    "    result = model(tokens)\n",
    "    score =  int(torch.argmax(result.logits)) + 1\n",
    "    return score"
   ]
  },
  {
   "cell_type": "code",
   "execution_count": 20,
   "metadata": {},
   "outputs": [],
   "source": [
    "df['sentiment'] = df['review'].apply(lambda x: get_sentiment(x[:512]))"
   ]
  },
  {
   "cell_type": "code",
   "execution_count": 21,
   "metadata": {},
   "outputs": [
    {
     "data": {
      "text/html": [
       "<div>\n",
       "<style scoped>\n",
       "    .dataframe tbody tr th:only-of-type {\n",
       "        vertical-align: middle;\n",
       "    }\n",
       "\n",
       "    .dataframe tbody tr th {\n",
       "        vertical-align: top;\n",
       "    }\n",
       "\n",
       "    .dataframe thead th {\n",
       "        text-align: right;\n",
       "    }\n",
       "</style>\n",
       "<table border=\"1\" class=\"dataframe\">\n",
       "  <thead>\n",
       "    <tr style=\"text-align: right;\">\n",
       "      <th></th>\n",
       "      <th>review</th>\n",
       "      <th>sentiment</th>\n",
       "    </tr>\n",
       "  </thead>\n",
       "  <tbody>\n",
       "    <tr>\n",
       "      <th>0</th>\n",
       "      <td>We stopped in because the pizza pics on yelp l...</td>\n",
       "      <td>5</td>\n",
       "    </tr>\n",
       "    <tr>\n",
       "      <th>1</th>\n",
       "      <td>Really disappointing deterioration @ Patxi's T...</td>\n",
       "      <td>1</td>\n",
       "    </tr>\n",
       "    <tr>\n",
       "      <th>2</th>\n",
       "      <td>Firstly, ignore the reviews from all the child...</td>\n",
       "      <td>2</td>\n",
       "    </tr>\n",
       "    <tr>\n",
       "      <th>3</th>\n",
       "      <td>I got Uber eats delivery. I've had plenty of p...</td>\n",
       "      <td>2</td>\n",
       "    </tr>\n",
       "    <tr>\n",
       "      <th>4</th>\n",
       "      <td>If I can give no stars I would1. It took 25 mi...</td>\n",
       "      <td>2</td>\n",
       "    </tr>\n",
       "    <tr>\n",
       "      <th>5</th>\n",
       "      <td>Came here with a group of 5 where we were seat...</td>\n",
       "      <td>2</td>\n",
       "    </tr>\n",
       "    <tr>\n",
       "      <th>6</th>\n",
       "      <td>OOF. First time there since the pandemic. What...</td>\n",
       "      <td>1</td>\n",
       "    </tr>\n",
       "    <tr>\n",
       "      <th>7</th>\n",
       "      <td>My friend hosted a fun gathering and ordered n...</td>\n",
       "      <td>4</td>\n",
       "    </tr>\n",
       "    <tr>\n",
       "      <th>8</th>\n",
       "      <td>The place was quiet, a few people inside dinin...</td>\n",
       "      <td>3</td>\n",
       "    </tr>\n",
       "    <tr>\n",
       "      <th>9</th>\n",
       "      <td>Great pizza. We got the classic thin crust piz...</td>\n",
       "      <td>4</td>\n",
       "    </tr>\n",
       "  </tbody>\n",
       "</table>\n",
       "</div>"
      ],
      "text/plain": [
       "                                              review  sentiment\n",
       "0  We stopped in because the pizza pics on yelp l...          5\n",
       "1  Really disappointing deterioration @ Patxi's T...          1\n",
       "2  Firstly, ignore the reviews from all the child...          2\n",
       "3  I got Uber eats delivery. I've had plenty of p...          2\n",
       "4  If I can give no stars I would1. It took 25 mi...          2\n",
       "5  Came here with a group of 5 where we were seat...          2\n",
       "6  OOF. First time there since the pandemic. What...          1\n",
       "7  My friend hosted a fun gathering and ordered n...          4\n",
       "8  The place was quiet, a few people inside dinin...          3\n",
       "9  Great pizza. We got the classic thin crust piz...          4"
      ]
     },
     "execution_count": 21,
     "metadata": {},
     "output_type": "execute_result"
    }
   ],
   "source": [
    "df.head(10)"
   ]
  },
  {
   "cell_type": "code",
   "execution_count": 22,
   "metadata": {},
   "outputs": [
    {
     "name": "stderr",
     "output_type": "stream",
     "text": [
      "C:\\Users\\ASUS\\AppData\\Local\\Temp\\ipykernel_7056\\2876544925.py:2: FutureWarning: \n",
      "\n",
      "Passing `palette` without assigning `hue` is deprecated and will be removed in v0.14.0. Assign the `x` variable to `hue` and set `legend=False` for the same effect.\n",
      "\n",
      "  sns.countplot(data=df, x='sentiment', palette='viridis')\n"
     ]
    },
    {
     "data": {
      "image/png": "[encoded data removed]",
      "text/plain": [
       "<Figure size 720x432 with 1 Axes>"
      ]
     },
     "metadata": {
      "needs_background": "light"
     },
     "output_type": "display_data"
    }
   ],
   "source": [
    "plt.figure(figsize=(10, 6))\n",
    "sns.countplot(data=df, x='sentiment', palette='viridis')\n",
    "plt.title('Distribution of Sentiment Scores')\n",
    "plt.xlabel('Sentiment Score')\n",
    "plt.ylabel('Count of Reviews')\n",
    "plt.grid(axis='y', linestyle='--', alpha=0.7)\n",
    "plt.show()"
   ]
  }
 ],
 "metadata": {
  "kernelspec": {
   "display_name": "Python 3",
   "language": "python",
   "name": "python3"
  },
  "language_info": {
   "codemirror_mode": {
    "name": "ipython",
    "version": 3
   },
   "file_extension": ".py",
   "mimetype": "text/x-python",
   "name": "python",
   "nbconvert_exporter": "python",
   "pygments_lexer": "ipython3",
   "version": "3.10.6"
  }
 },
 "nbformat": 4,
 "nbformat_minor": 2
}
